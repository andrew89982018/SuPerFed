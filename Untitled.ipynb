{
 "cells": [
  {
   "cell_type": "code",
   "execution_count": 1,
   "id": "63e02b5d-ae8d-4c26-8eb7-273033313522",
   "metadata": {},
   "outputs": [],
   "source": [
    "import torch"
   ]
  },
  {
   "cell_type": "code",
   "execution_count": 2,
   "id": "7d5f4fdd-aa31-4a2f-ba06-ab1c0081ae41",
   "metadata": {},
   "outputs": [],
   "source": [
    "import json"
   ]
  },
  {
   "cell_type": "code",
   "execution_count": 3,
   "id": "4ac0c77c-f6ff-414f-98ab-e8904984e1f4",
   "metadata": {},
   "outputs": [],
   "source": [
    "import os"
   ]
  },
  {
   "cell_type": "code",
   "execution_count": 4,
   "id": "25242ca7-2aa5-4cec-9fbe-99473903983b",
   "metadata": {},
   "outputs": [],
   "source": [
    "import pickle"
   ]
  },
  {
   "cell_type": "code",
   "execution_count": 9,
   "id": "fe2a9ee0-2bd3-4ba1-8ad3-e5fac95e3cad",
   "metadata": {},
   "outputs": [],
   "source": [
    "with open('./data/femnist/data/train/all_data_0_niid_0_keep_0_train_8.json', 'r') as f:\n",
    "    a = json.load(f)"
   ]
  },
  {
   "cell_type": "code",
   "execution_count": 12,
   "id": "acab355d-d6a0-448a-be56-79bbca397363",
   "metadata": {},
   "outputs": [
    {
     "data": {
      "text/plain": [
       "dict_keys(['users', 'num_samples', 'user_data'])"
      ]
     },
     "execution_count": 12,
     "metadata": {},
     "output_type": "execute_result"
    }
   ],
   "source": [
    "a.keys()"
   ]
  },
  {
   "cell_type": "code",
   "execution_count": 14,
   "id": "8a1900d8-855e-41f9-a127-da6d805e72fd",
   "metadata": {},
   "outputs": [
    {
     "data": {
      "text/plain": [
       "100"
      ]
     },
     "execution_count": 14,
     "metadata": {},
     "output_type": "execute_result"
    }
   ],
   "source": [
    "len(a['users'])"
   ]
  },
  {
   "cell_type": "code",
   "execution_count": 19,
   "id": "eb98d7da-06a7-4a0f-8258-2d7aaa42fa8e",
   "metadata": {},
   "outputs": [
    {
     "data": {
      "text/plain": [
       "['f1307_25',\n",
       " 'f1129_22',\n",
       " 'f1379_47',\n",
       " 'f1096_05',\n",
       " 'f1204_09',\n",
       " 'f1432_44',\n",
       " 'f1172_25',\n",
       " 'f1382_07',\n",
       " 'f1021_16',\n",
       " 'f1011_35',\n",
       " 'f1151_39',\n",
       " 'f1475_14',\n",
       " 'f1329_29',\n",
       " 'f1054_20',\n",
       " 'f1181_27',\n",
       " 'f1317_00',\n",
       " 'f1193_46',\n",
       " 'f1091_00',\n",
       " 'f1213_10',\n",
       " 'f1345_41',\n",
       " 'f1489_03',\n",
       " 'f1395_14',\n",
       " 'f1133_00',\n",
       " 'f1200_36',\n",
       " 'f1274_24',\n",
       " 'f1315_48',\n",
       " 'f1263_18',\n",
       " 'f1272_09',\n",
       " 'f1340_02',\n",
       " 'f1184_21',\n",
       " 'f1197_00',\n",
       " 'f1310_44',\n",
       " 'f1439_27',\n",
       " 'f1012_30',\n",
       " 'f1290_49',\n",
       " 'f1000_45',\n",
       " 'f1123_09',\n",
       " 'f1296_02',\n",
       " 'f1248_28',\n",
       " 'f1454_12',\n",
       " 'f1169_08',\n",
       " 'f1220_42',\n",
       " 'f1426_27',\n",
       " 'f1034_02',\n",
       " 'f1470_34',\n",
       " 'f1455_14',\n",
       " 'f1482_39',\n",
       " 'f1314_29',\n",
       " 'f1100_46',\n",
       " 'f1417_14',\n",
       " 'f1481_35',\n",
       " 'f1140_23',\n",
       " 'f1049_26',\n",
       " 'f1342_17',\n",
       " 'f1023_49',\n",
       " 'f1234_26',\n",
       " 'f1237_18',\n",
       " 'f1113_16',\n",
       " 'f1479_40',\n",
       " 'f1498_08',\n",
       " 'f1074_34',\n",
       " 'f1242_30',\n",
       " 'f1041_18',\n",
       " 'f1486_35',\n",
       " 'f1457_23',\n",
       " 'f1198_41',\n",
       " 'f1176_40',\n",
       " 'f1300_41',\n",
       " 'f1288_23',\n",
       " 'f1024_46',\n",
       " 'f1354_22',\n",
       " 'f1112_30',\n",
       " 'f1341_45',\n",
       " 'f1152_03',\n",
       " 'f1466_48',\n",
       " 'f1293_37',\n",
       " 'f1171_06',\n",
       " 'f1159_29',\n",
       " 'f1499_12',\n",
       " 'f1325_20',\n",
       " 'f1434_10',\n",
       " 'f1097_20',\n",
       " 'f1459_30',\n",
       " 'f1271_05',\n",
       " 'f1057_34',\n",
       " 'f1026_41',\n",
       " 'f1331_49',\n",
       " 'f1050_39',\n",
       " 'f1384_42',\n",
       " 'f1269_14',\n",
       " 'f1450_34',\n",
       " 'f1190_46',\n",
       " 'f1119_27',\n",
       " 'f1186_07',\n",
       " 'f1065_10',\n",
       " 'f1335_30',\n",
       " 'f1082_22',\n",
       " 'f1240_01',\n",
       " 'f1275_19',\n",
       " 'f1179_01']"
      ]
     },
     "execution_count": 19,
     "metadata": {},
     "output_type": "execute_result"
    }
   ],
   "source": [
    "a['users']"
   ]
  },
  {
   "cell_type": "code",
   "execution_count": 16,
   "id": "58cf4d8d-a41b-47b9-aa5c-e4f99ca7cd77",
   "metadata": {},
   "outputs": [],
   "source": [
    "with open('./data/femnist/data/test/all_data_0_niid_0_keep_0_test_8.json', 'r') as t:\n",
    "    b = json.load(t)"
   ]
  },
  {
   "cell_type": "code",
   "execution_count": 17,
   "id": "01a599d8-4e51-4005-96c6-399b48dd2f48",
   "metadata": {},
   "outputs": [
    {
     "data": {
      "text/plain": [
       "dict_keys(['users', 'num_samples', 'user_data'])"
      ]
     },
     "execution_count": 17,
     "metadata": {},
     "output_type": "execute_result"
    }
   ],
   "source": [
    "b.keys()"
   ]
  },
  {
   "cell_type": "code",
   "execution_count": 20,
   "id": "1f4e523d-999f-4be3-9613-fa5cc0446681",
   "metadata": {},
   "outputs": [
    {
     "data": {
      "text/plain": [
       "100"
      ]
     },
     "execution_count": 20,
     "metadata": {},
     "output_type": "execute_result"
    }
   ],
   "source": [
    "len(b['users'])"
   ]
  },
  {
   "cell_type": "code",
   "execution_count": 26,
   "id": "ac3003b2-c26f-4f05-9c5c-1d435ffdc281",
   "metadata": {},
   "outputs": [],
   "source": [
    "import torch"
   ]
  },
  {
   "cell_type": "code",
   "execution_count": 27,
   "id": "c0f073d7-a38b-47ef-b7ee-280b58d61856",
   "metadata": {},
   "outputs": [],
   "source": [
    "m = torch.zeros(10)\n",
    "n = torch.zeros(10)"
   ]
  },
  {
   "cell_type": "code",
   "execution_count": 28,
   "id": "98e34a22-41a5-416f-964f-04d2b42d2c39",
   "metadata": {},
   "outputs": [
    {
     "data": {
      "text/plain": [
       "(tensor([0., 0., 0., 0., 0., 0., 0., 0., 0., 0.]),\n",
       " tensor([0., 0., 0., 0., 0., 0., 0., 0., 0., 0.]))"
      ]
     },
     "execution_count": 28,
     "metadata": {},
     "output_type": "execute_result"
    }
   ],
   "source": [
    "m.data, n.data"
   ]
  },
  {
   "cell_type": "code",
   "execution_count": 30,
   "id": "286cdfa3-16a8-44c7-b436-fdd371f9687f",
   "metadata": {},
   "outputs": [
    {
     "data": {
      "text/plain": [
       "tensor([ 1.1018,  1.1474,  0.6242, -0.3381,  0.2918, -1.0141, -0.8198, -0.3816,\n",
       "        -0.5045, -0.7239])"
      ]
     },
     "execution_count": 30,
     "metadata": {},
     "output_type": "execute_result"
    }
   ],
   "source": [
    "torch.manual_seed(5959)\n",
    "torch.nn.init.normal_(m.data, 0.0, 1.0)\n",
    "\n",
    "torch.manual_seed(5252)\n",
    "torch.nn.init.normal_(n.data, 0.0, 1.0)"
   ]
  },
  {
   "cell_type": "code",
   "execution_count": 31,
   "id": "8b32febe-7820-47ae-b057-21432baacf60",
   "metadata": {},
   "outputs": [
    {
     "data": {
      "text/plain": [
       "(tensor([-0.9307, -0.6656, -1.5053,  1.9334,  0.2129,  1.1681, -0.0685,  0.4326,\n",
       "         -1.0074,  0.2255]),\n",
       " tensor([ 1.1018,  1.1474,  0.6242, -0.3381,  0.2918, -1.0141, -0.8198, -0.3816,\n",
       "         -0.5045, -0.7239]))"
      ]
     },
     "execution_count": 31,
     "metadata": {},
     "output_type": "execute_result"
    }
   ],
   "source": [
    "m, n"
   ]
  },
  {
   "cell_type": "code",
   "execution_count": null,
   "id": "39ea3d08-5f04-4b1c-a630-d2ad7bf2c6d1",
   "metadata": {},
   "outputs": [],
   "source": []
  }
 ],
 "metadata": {
  "kernelspec": {
   "display_name": "Python 3 (ipykernel)",
   "language": "python",
   "name": "python3"
  },
  "language_info": {
   "codemirror_mode": {
    "name": "ipython",
    "version": 3
   },
   "file_extension": ".py",
   "mimetype": "text/x-python",
   "name": "python",
   "nbconvert_exporter": "python",
   "pygments_lexer": "ipython3",
   "version": "3.7.10"
  }
 },
 "nbformat": 4,
 "nbformat_minor": 5
}
